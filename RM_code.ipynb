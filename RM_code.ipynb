{
 "cells": [
  {
   "cell_type": "code",
   "execution_count": 1,
   "id": "981d117c-c424-46da-86cb-07cbd99e8326",
   "metadata": {},
   "outputs": [],
   "source": [
    "import numpy as np\n",
    "import pandas as pd\n",
    "import matplotlib.pyplot as plt"
   ]
  },
  {
   "cell_type": "code",
   "execution_count": 2,
   "id": "0213e97c-3018-488d-8a0c-da5cec9c170a",
   "metadata": {},
   "outputs": [
    {
     "name": "stdout",
     "output_type": "stream",
     "text": [
      "(72000, 5)\n"
     ]
    }
   ],
   "source": [
    "d = pd.read_csv('Results_21Mar2022.csv', index_col = None)\n",
    "print(d.shape)"
   ]
  },
  {
   "cell_type": "code",
   "execution_count": 3,
   "id": "2567736a-3e9c-4d04-8312-7fadce092b3d",
   "metadata": {},
   "outputs": [],
   "source": [
    "import pandas as pd\n",
    "\n",
    "category_1 = ['female', 'male']\n",
    "category_2 = ['20-29', '30-39', '40-49', '50-59', '60-69', '70-79']\n",
    "category_3 = ['fish', 'meat', 'meat100', 'meat50', 'vegan', 'veggie']\n",
    "\n",
    "sex_list = []\n",
    "age_group_list = []\n",
    "diet_group_list = []\n",
    "mean_ghg = []\n",
    "mean_eut = []\n",
    "\n",
    "for x in category_1:\n",
    "    for y in category_2:\n",
    "        for z in category_3:\n",
    "            d_1 = d[(d['sex'] == x) & (d['age_group'] == y) & (d['diet_group'] == z)]\n",
    "            a = d_1['mean_ghgs'].mean()\n",
    "            b = d_1['mean_eut'].mean()\n",
    "            # 追加每一项的组合\n",
    "            sex_list.append(x)\n",
    "            age_group_list.append(y)\n",
    "            diet_group_list.append(z)\n",
    "            mean_ghg.append(a)\n",
    "            mean_eut.append(b)\n",
    "\n",
    "# 构建包含所有列的DataFrame\n",
    "data = pd.DataFrame({\n",
    "    'sex': sex_list,\n",
    "    'age_group': age_group_list,\n",
    "    'diet_group': diet_group_list,\n",
    "    'mean_ghg': mean_ghg,\n",
    "    'mean_eut': mean_eut\n",
    "})\n",
    "\n",
    "# 导出为CSV\n",
    "data.to_excel('output.xlsx', index=False)"
   ]
  },
  {
   "cell_type": "code",
   "execution_count": null,
   "id": "cfb6aa05-ca09-417f-bbd1-1d08add08a1f",
   "metadata": {},
   "outputs": [],
   "source": []
  }
 ],
 "metadata": {
  "kernelspec": {
   "display_name": "Python 3 (ipykernel)",
   "language": "python",
   "name": "python3"
  },
  "language_info": {
   "codemirror_mode": {
    "name": "ipython",
    "version": 3
   },
   "file_extension": ".py",
   "mimetype": "text/x-python",
   "name": "python",
   "nbconvert_exporter": "python",
   "pygments_lexer": "ipython3",
   "version": "3.12.7"
  }
 },
 "nbformat": 4,
 "nbformat_minor": 5
}
